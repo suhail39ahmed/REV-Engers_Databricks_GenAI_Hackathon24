{
 "cells": [
  {
   "cell_type": "code",
   "execution_count": 0,
   "metadata": {
    "application/vnd.databricks.v1+cell": {
     "cellMetadata": {
      "byteLimit": 2048000,
      "rowLimit": 10000
     },
     "inputWidgets": {},
     "nuid": "09ad1814-3e64-41e8-9602-3dc9974fb3a1",
     "showTitle": true,
     "title": "Install Pdfplumber and langchain"
    },
    "jupyter": {
     "outputs_hidden": true
    }
   },
   "outputs": [],
   "source": [
    "%pip install Pdfplumber langchain\n",
    "dbutils.library.restartPython()"
   ]
  },
  {
   "cell_type": "code",
   "execution_count": 0,
   "metadata": {
    "application/vnd.databricks.v1+cell": {
     "cellMetadata": {
      "byteLimit": 2048000,
      "rowLimit": 10000
     },
     "inputWidgets": {},
     "nuid": "d4c9ad3e-867b-4a4a-b02b-26b1e8d852e9",
     "showTitle": true,
     "title": "List pdf files in Volume"
    }
   },
   "outputs": [],
   "source": [
    "import os\n",
    "from pyspark.sql.functions import substring_index\n",
    "\n",
    "# Directory path\n",
    "directory_path = \"/Volumes/databricks_hackathon/llm/rag\"\n",
    "\n",
    "# List files in directory\n",
    "file_paths = [file.path for file in dbutils.fs.ls(directory_path)]\n",
    "\n",
    "# Extract file names from paths\n",
    "df = spark.createDataFrame(file_paths, \"string\").select(substring_index(\"value\", \"/\", -1).alias(\"file_name\"))\n",
    "\n",
    "# Show dataframe\n",
    "df.show()"
   ]
  },
  {
   "cell_type": "code",
   "execution_count": 0,
   "metadata": {
    "application/vnd.databricks.v1+cell": {
     "cellMetadata": {
      "byteLimit": 2048000,
      "rowLimit": 10000
     },
     "inputWidgets": {},
     "nuid": "4564f082-d01c-4cf7-b90a-e8ea0200e002",
     "showTitle": true,
     "title": "Check for files not yet processed, extract text and chunk"
    }
   },
   "outputs": [],
   "source": [
    "import os\n",
    "import pdfplumber\n",
    "from langchain.text_splitter import RecursiveCharacterTextSplitter\n",
    "\n",
    "pdf_volume_path = \"/Volumes/databricks_hackathon/llm/rag\"  # Specify the path to the PDF volume directory\n",
    "\n",
    "# Get the list of already processed PDF files from the Delta table\n",
    "processed_files = spark.sql(f\"SELECT DISTINCT file_name FROM databricks_hackathon.llm.docs_track\").collect()\n",
    "processed_files = set(row[\"file_name\"] for row in processed_files)\n",
    "\n",
    "# Process only new PDF files\n",
    "new_files = [file for file in os.listdir(pdf_volume_path) if file not in processed_files]\n",
    "\n",
    "all_text = ''  # Initialize all_text to store text from new PDF files\n",
    "\n",
    "for file_name in new_files:\n",
    "    # Extract text from the PDF file\n",
    "    pdf_path = os.path.join(pdf_volume_path, file_name)\n",
    "\n",
    "    with pdfplumber.open(pdf_path) as pdf:\n",
    "        for pdf_page in pdf.pages:\n",
    "            single_page_text = pdf_page.extract_text()\n",
    "            # Separate each page's text with newline\n",
    "            all_text = all_text + '\\n' + single_page_text\n",
    "\n",
    "# Split the combined text into chunks using the RecursiveCharacterTextSplitter\n",
    "from langchain.text_splitter import RecursiveCharacterTextSplitter\n",
    "\n",
    "length_function = len\n",
    "\n",
    "splitter = RecursiveCharacterTextSplitter(\n",
    "    separators=[\"\\n\\n\", \"\\n\", \" \", \"\"],\n",
    "    chunk_size=1000,\n",
    "    chunk_overlap=200,\n",
    "    length_function=length_function,\n",
    ")\n",
    "chunks = splitter.split_text(all_text)"
   ]
  },
  {
   "cell_type": "code",
   "execution_count": 0,
   "metadata": {
    "application/vnd.databricks.v1+cell": {
     "cellMetadata": {
      "byteLimit": 2048000,
      "rowLimit": 10000
     },
     "inputWidgets": {},
     "nuid": "72d83c04-d4ac-439b-9e87-afb16fb42878",
     "showTitle": true,
     "title": "Pandas UDF to chunk text data for insert"
    }
   },
   "outputs": [
    {
     "data": {
      "text/plain": [
       "<pyspark.sql.udf.UserDefinedFunction at 0x7fdef45785d0>"
      ]
     },
     "execution_count": 3,
     "metadata": {},
     "output_type": "execute_result"
    }
   ],
   "source": [
    "from pyspark.sql.functions import pandas_udf\n",
    "from pyspark.sql.types import ArrayType, StringType\n",
    "import pandas as pd\n",
    "\n",
    "@pandas_udf(\"array<string>\")\n",
    "def get_chunks(dummy):\n",
    "    return pd.Series([chunks])\n",
    "\n",
    "# Register the UDF\n",
    "spark.udf.register(\"get_chunks_udf\", get_chunks)"
   ]
  },
  {
   "cell_type": "code",
   "execution_count": 0,
   "metadata": {
    "application/vnd.databricks.v1+cell": {
     "cellMetadata": {
      "byteLimit": 2048000,
      "implicitDf": true,
      "rowLimit": 10000
     },
     "inputWidgets": {},
     "nuid": "9b9abcfc-9e6a-4c5f-a024-1f41ca3667c4",
     "showTitle": true,
     "title": "Insert chunked data into docs_text table"
    }
   },
   "outputs": [],
   "source": [
    "%sql\n",
    "insert into databricks_hackathon.llm.docs_text (text)\n",
    "select explode(get_chunks_udf('dummy')) as text;"
   ]
  },
  {
   "cell_type": "code",
   "execution_count": 0,
   "metadata": {
    "application/vnd.databricks.v1+cell": {
     "cellMetadata": {
      "byteLimit": 2048000,
      "rowLimit": 10000
     },
     "inputWidgets": {},
     "nuid": "a1f7407b-f798-4530-b92d-5dd116bf2db8",
     "showTitle": true,
     "title": "Update docs_track table so same files aren't processed again"
    }
   },
   "outputs": [],
   "source": [
    "df.createOrReplaceTempView(\"temp_table\")  # Create a temporary table from the DataFrame\n",
    "\n",
    "# Insert only the rows that do not exist in the target table\n",
    "spark.sql(\"\"\"\n",
    "    INSERT INTO databricks_hackathon.llm.docs_track\n",
    "    SELECT * FROM temp_table\n",
    "    WHERE NOT EXISTS (\n",
    "        SELECT 1 FROM databricks_hackathon.llm.docs_track\n",
    "        WHERE temp_table.file_name = databricks_hackathon.llm.docs_track.file_name\n",
    "    )\n",
    "\"\"\")"
   ]
  }
 ],
 "metadata": {
  "application/vnd.databricks.v1+notebook": {
   "dashboards": [],
   "environmentMetadata": null,
   "language": "python",
   "notebookMetadata": {
    "mostRecentlyExecutedCommandWithImplicitDF": {
     "commandId": 3306548821280976,
     "dataframes": [
      "_sqldf"
     ]
    },
    "pythonIndentUnit": 4
   },
   "notebookName": "2A Incremental PDF to docs_text",
   "widgets": {}
  },
  "language_info": {
   "name": "python"
  }
 },
 "nbformat": 4,
 "nbformat_minor": 0
}
