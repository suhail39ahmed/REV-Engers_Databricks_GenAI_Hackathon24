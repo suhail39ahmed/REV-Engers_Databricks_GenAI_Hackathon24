{
 "cells": [
  {
   "cell_type": "code",
   "execution_count": 0,
   "metadata": {
    "application/vnd.databricks.v1+cell": {
     "cellMetadata": {
      "byteLimit": 2048000,
      "rowLimit": 10000
     },
     "inputWidgets": {},
     "nuid": "09ad1814-3e64-41e8-9602-3dc9974fb3a1",
     "showTitle": true,
     "title": "Install langchain"
    },
    "jupyter": {
     "outputs_hidden": true
    }
   },
   "outputs": [],
   "source": [
    "%pip install langchain\n",
    "dbutils.library.restartPython()"
   ]
  },
  {
   "cell_type": "code",
   "execution_count": 0,
   "metadata": {
    "application/vnd.databricks.v1+cell": {
     "cellMetadata": {
      "byteLimit": 2048000,
      "rowLimit": 10000
     },
     "inputWidgets": {},
     "nuid": "b409b437-fd97-487b-b176-a3b51c18812c",
     "showTitle": true,
     "title": "Extract and chunk text from CSV file"
    }
   },
   "outputs": [],
   "source": [
    "import os\n",
    "from langchain.text_splitter import RecursiveCharacterTextSplitter\n",
    "\n",
    "# Read the text file\n",
    "df = spark.read.text(\"dbfs:/Volumes/rea-onyx-uc-catalog/rea_onyx_uc_schema/rea_test_volume/physicalasset.csv\")\n",
    "\n",
    "# Collect all the text into a single string\n",
    "text_column = \" \".join([row.value for row in df.collect()])\n",
    "\n",
    "length_function = len\n",
    "\n",
    "splitter = RecursiveCharacterTextSplitter(\n",
    "    separators=[\"\\n\\n\", \"\\n\", \" \", \"\"],\n",
    "    chunk_size=1000,\n",
    "    chunk_overlap=200,\n",
    "    length_function=length_function,\n",
    ")\n",
    "chunks = splitter.split_text(text_column)"
   ]
  },
  {
   "cell_type": "code",
   "execution_count": 0,
   "metadata": {
    "application/vnd.databricks.v1+cell": {
     "cellMetadata": {
      "byteLimit": 2048000,
      "rowLimit": 10000
     },
     "inputWidgets": {},
     "nuid": "72d83c04-d4ac-439b-9e87-afb16fb42878",
     "showTitle": true,
     "title": "Pandas UDF to chunk text data for insert"
    }
   },
   "outputs": [
    {
     "data": {
      "text/plain": [
       "<pyspark.sql.udf.UserDefinedFunction at 0x7fdb9f6a0450>"
      ]
     },
     "execution_count": 17,
     "metadata": {},
     "output_type": "execute_result"
    }
   ],
   "source": [
    "from pyspark.sql.functions import pandas_udf\n",
    "from pyspark.sql.types import ArrayType, StringType\n",
    "import pandas as pd\n",
    "\n",
    "@pandas_udf(\"array<string>\")\n",
    "def get_chunks(dummy):\n",
    "    return pd.Series([chunks])\n",
    "\n",
    "# Register the UDF\n",
    "spark.udf.register(\"get_chunks_udf\", get_chunks)"
   ]
  },
  {
   "cell_type": "code",
   "execution_count": 0,
   "metadata": {
    "application/vnd.databricks.v1+cell": {
     "cellMetadata": {
      "byteLimit": 2048000,
      "implicitDf": true,
      "rowLimit": 10000
     },
     "inputWidgets": {},
     "nuid": "9b9abcfc-9e6a-4c5f-a024-1f41ca3667c4",
     "showTitle": true,
     "title": "Insert chunked data into docs_text table"
    }
   },
   "outputs": [],
   "source": [
    "%sql\n",
    "insert into `rea-onyx-uc-catalog`.rea_onyx_uc_schema.docs_text (text)\n",
    "select explode(get_chunks_udf('dummy')) as text;"
   ]
  },
  {
   "cell_type": "code",
   "execution_count": 0,
   "metadata": {
    "application/vnd.databricks.v1+cell": {
     "cellMetadata": {
      "byteLimit": 2048000,
      "rowLimit": 10000
     },
     "inputWidgets": {},
     "nuid": "cdf131c1-91d4-4f5a-8555-91fde98188f0",
     "showTitle": false,
     "title": ""
    }
   },
   "outputs": [],
   "source": [
    "# Create a temporary table from the DataFrame\n",
    "df.createOrReplaceTempView(\"temp_table\")\n",
    "\n",
    "# Ensure the catalog, schema, and table names are correct\n",
    "# Adjust the query to use the correct names if they were misspelled\n",
    "spark.sql(\"\"\"\n",
    "    INSERT INTO `rea-onyx-uc-catalog`.rea_onyx_uc_schema.docs_track\n",
    "    SELECT temp_table.*\n",
    "    FROM temp_table\n",
    "    LEFT ANTI JOIN `rea-onyx-uc-catalog`.rea_onyx_uc_schema.docs_track\n",
    "    ON temp_table.value = `rea-onyx-uc-catalog`.rea_onyx_uc_schema.docs_track.file_name\n",
    "\"\"\")"
   ]
  }
 ],
 "metadata": {
  "application/vnd.databricks.v1+notebook": {
   "dashboards": [],
   "environmentMetadata": null,
   "language": "python",
   "notebookMetadata": {
    "mostRecentlyExecutedCommandWithImplicitDF": {
     "commandId": 4369964190003852,
     "dataframes": [
      "_sqldf"
     ]
    },
    "pythonIndentUnit": 4
   },
   "notebookName": "2B CSV to docs_text",
   "widgets": {}
  },
  "language_info": {
   "name": "python"
  }
 },
 "nbformat": 4,
 "nbformat_minor": 0
}
